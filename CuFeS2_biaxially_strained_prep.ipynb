{
 "cells": [
  {
   "cell_type": "code",
   "execution_count": 1,
   "id": "c5a4a15b",
   "metadata": {},
   "outputs": [],
   "source": [
    "import os\n",
    "import matplotlib.pyplot as plt\n",
    "import numpy as np\n",
    "from numpy import pi, sqrt\n",
    "import glob\n",
    "import re\n",
    "from matplotlib.pyplot import figure\n",
    "import subprocess as sp\n",
    "import random as rd\n",
    "homedir = os.path.expanduser('~')"
   ]
  },
  {
   "cell_type": "code",
   "execution_count": 6,
   "id": "5d209c86",
   "metadata": {},
   "outputs": [],
   "source": [
    "loc = f\"{homedir}/nn9301k/CuFeS2/pbesol/pbesol/dftu4/7/A111/acfix\""
   ]
  },
  {
   "cell_type": "code",
   "execution_count": 7,
   "id": "31e61879",
   "metadata": {},
   "outputs": [
    {
     "name": "stdout",
     "output_type": "stream",
     "text": [
      "5.258785655520129 5.258785655520129 10.4083347443068\n"
     ]
    }
   ],
   "source": [
    "# Read relaxed lattice constant from POSCAR (it's really from a CONTCAR)\n",
    "\n",
    "f= open(f'{loc}/POSCAR', 'r')\n",
    "lines = f.readlines()\n",
    "f.close()\n",
    "\n",
    "latconstax = float(lines[2].split()[0])\n",
    "latconstay = float(lines[3].split()[1])\n",
    "latconstaz = float(lines[4].split()[2])\n",
    "print(latconstax, latconstay, latconstaz)\n",
    "latconsta = sqrt(latconstax**2 + latconstay**2 + latconstaz**2)"
   ]
  },
  {
   "cell_type": "code",
   "execution_count": 8,
   "id": "647a126c",
   "metadata": {},
   "outputs": [
    {
     "name": "stdout",
     "output_type": "stream",
     "text": [
      "[-0.05 -0.04 -0.03 -0.02 -0.01  0.01  0.02  0.03  0.04  0.05]\n",
      "\n",
      "\n",
      "[4.99584637 5.04843423 5.10102209 5.15360994 5.2061978  5.31137351\n",
      " 5.36396137 5.41654923 5.46913708 5.52172494]\n",
      "[ 9.88791801  9.99200135 10.0960847  10.20016805 10.3042514  10.51241809\n",
      " 10.61650144 10.72058479 10.82466813 10.92875148]\n"
     ]
    }
   ],
   "source": [
    "strainpc = np.append(np.arange(-5.0, 0.0, 1.0), np.arange(1.0, 5.1, 1.0))/100\n",
    "eps = 1e-2\n",
    "print(strainpc)\n",
    "print('\\n')\n",
    "latconstx = latconstax * (1 + strainpc)\n",
    "latconstz = latconstaz * (1 + strainpc)\n",
    "n = len(latconstx)\n",
    "print(latconstx)\n",
    "print(latconstz)"
   ]
  },
  {
   "cell_type": "code",
   "execution_count": 11,
   "id": "ea059ccd",
   "metadata": {},
   "outputs": [],
   "source": [
    "for i in range(n):\n",
    "    lines[2] = f'     {latconstx[i]}        0.0000000000000000    0.0000000000000000\\n'\n",
    "    lines[3] = f'     0.0000000000000000     {latconstay}       0.0000000000000000\\n'\n",
    "    lines[4] = f'     0.0000000000000000     0.0000000000000000    {latconstz[i]}\\n'\n",
    "    \n",
    "    # write POSCARs\n",
    "    #path = f\"{path111}/abfix/POSCAR{(strainpc*1000).astype('int')[i]}\"\n",
    "    #path = f\"{loc}/POSCAR{(strainpc*1000).astype('int')[i]}\"\n",
    "    path = f\"{loc}/POSCAR{(strainpc*1000).astype('int')[i]}\"\n",
    "    f = open(path, 'w')\n",
    "    f.writelines(lines)\n",
    "    f.close()"
   ]
  },
  {
   "cell_type": "code",
   "execution_count": 13,
   "id": "45e56878",
   "metadata": {},
   "outputs": [
    {
     "name": "stdout",
     "output_type": "stream",
     "text": [
      "5.258785655520129\n",
      "10.4083347443068\n",
      "5.206197798964928\n",
      "10.304251396863732\n",
      "5.153609942409727\n",
      "10.200168049420663\n",
      "5.101022085854526\n",
      "10.096084701977595\n",
      "5.048434229299324\n",
      "9.992001354534526\n",
      "4.995846372744123\n",
      "9.887918007091459\n",
      "5.31137351207533\n",
      "10.512418091749867\n",
      "5.363961368630532\n",
      "10.616501439192936\n",
      "5.416549225185733\n",
      "10.720584786636003\n",
      "5.469137081740935\n",
      "10.824668134079072\n",
      "5.521724938296136\n",
      "10.92875148152214\n"
     ]
    }
   ],
   "source": [
    "# test output files\n",
    "\n",
    "poscars = glob.glob(f'{loc}/POSCAR*')\n",
    "poscars.sort()\n",
    "\n",
    "for i in poscars:\n",
    "    f= open(f'{i}', 'r')\n",
    "    lines = f.readlines()\n",
    "    f.close()\n",
    "    \n",
    "    print(float(lines[2].split()[0]))\n",
    "    print(float(lines[4].split()[2]))"
   ]
  },
  {
   "cell_type": "code",
   "execution_count": null,
   "id": "0559ef92",
   "metadata": {},
   "outputs": [],
   "source": []
  }
 ],
 "metadata": {
  "kernelspec": {
   "display_name": "Python 3 (ipykernel)",
   "language": "python",
   "name": "python3"
  },
  "language_info": {
   "codemirror_mode": {
    "name": "ipython",
    "version": 3
   },
   "file_extension": ".py",
   "mimetype": "text/x-python",
   "name": "python",
   "nbconvert_exporter": "python",
   "pygments_lexer": "ipython3",
   "version": "3.8.10"
  }
 },
 "nbformat": 4,
 "nbformat_minor": 5
}
